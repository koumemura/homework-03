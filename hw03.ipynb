{
  "cells": [
    {
      "cell_type": "markdown",
      "metadata": {},
      "source": [
        "# DATASCI 101, Homework 03"
      ]
    },
    {
      "cell_type": "code",
      "execution_count": 2,
      "metadata": {},
      "outputs": [],
      "source": [
        "# basic setup, run this first\n",
        "import warnings\n",
        "warnings.simplefilter(action='ignore', category=FutureWarning)\n",
        "import numpy as np"
      ]
    },
    {
      "cell_type": "markdown",
      "metadata": {},
      "source": [
        "## Question 1\n",
        "\n",
        "We will start this homework with some questions on collections in Python.\n",
        "\n",
        "### Q1.a\n",
        "\n",
        "Recall that *sets* are collections where each value in the collection only appears once.\n",
        "\n",
        "Using the `set` function, turn both of these strings into sets. Then use set methods to find\n",
        "\n",
        "* How many letters are shared between the two names?\n",
        "* Which letters are in \"George Washington\" that are not in \"Abraham Lincoln\"?\n",
        "* How many letters are in neither president's name?\n"
      ]
    },
    {
      "cell_type": "code",
      "execution_count": 15,
      "metadata": {},
      "outputs": [
        {
          "name": "stdout",
          "output_type": "stream",
          "text": [
            "{'i', 'r', 'o', 'a', 'n', ' ', 'h'}\n",
            "{'t', 'g', 'e', 'w', 's'}\n",
            "{'v', 'd', 'q', 'u', 'y', 'f', 'j', 'p', 'z', 'k', 'x'}\n"
          ]
        },
        {
          "data": {
            "text/plain": [
              "11"
            ]
          },
          "execution_count": 15,
          "metadata": {},
          "output_type": "execute_result"
        }
      ],
      "source": [
        "gw = \"George Washington\".lower()\n",
        "al = \"Abraham Lincoln\".lower()\n",
        "az = \"abcdefghijklmnopqrstuvwxyz\"\n",
        "\n",
        "#Create a set with the three strings\n",
        "set_gw = set(gw)\n",
        "set_al = set(al)\n",
        "set_az = set(az)\n",
        "\n",
        "#Letters shared between two names\n",
        "gw_al_common = set_gw & set_al\n",
        "print(gw_al_common)\n",
        "\n",
        "#Letters in GW but not in AL\n",
        "gw_sub_al = set_gw - set_al\n",
        "print(gw_sub_al)\n",
        "\n",
        "#Letters in neither names\n",
        "az_remain = set_az - set_gw - set_al\n",
        "print(az_remain)\n",
        "len(az_remain)\n"
      ]
    },
    {
      "cell_type": "markdown",
      "metadata": {},
      "source": [
        "### Q1.b\n",
        "\n",
        "\n",
        "\n",
        "Use a `for` loop to find the unique values in the lunch orders below. Using Python, print out the number of unique items being ordered. (*Hint*: You can use `set()` to create an empty set.)"
      ]
    },
    {
      "cell_type": "code",
      "execution_count": 25,
      "metadata": {},
      "outputs": [
        {
          "name": "stdout",
          "output_type": "stream",
          "text": [
            "7\n"
          ]
        },
        {
          "data": {
            "text/plain": [
              "{'coffee', 'cookie', 'fries', 'pasta', 'salad', 'sandwich', 'water'}"
            ]
          },
          "execution_count": 25,
          "metadata": {},
          "output_type": "execute_result"
        }
      ],
      "source": [
        "lunch_orders = [{\"pasta\", \"coffee\"},\n",
        "                {\"fries\",\"sandwich\", \"cookie\"},\n",
        "                {\"pasta\", \"salad\", \"water\"},\n",
        "                {\"salad\", \"pasta\", \"coffee\"},\n",
        "                {\"sandwich\", \"water\"}]\n",
        "\n",
        "# Create an empty set\n",
        "lunch_unique = set()\n",
        "\n",
        "# Iterate through the list and separate each order into single items\n",
        "for lunch_order in lunch_orders:\n",
        "\n",
        "    # Insert unique items into set\n",
        "    for order in lunch_order:\n",
        "        lunch_unique.add(order)\n",
        "\n",
        "print(len(lunch_unique))\n",
        "lunch_unique\n"
      ]
    },
    {
      "cell_type": "markdown",
      "metadata": {},
      "source": [
        "### Q1.c\n",
        "\n",
        "Here is a menu at the resturant, with items and their cost:\n",
        "\n",
        "| Item | Price | Vegetarian |\n",
        "| --- | --- | --- |\n",
        "| salad | 8 | True |\n",
        "| soup | 5 | False |\n",
        "| pasta | 12 | True |\n",
        "| sandwich | 9 | False |\n",
        "| burger | 13 | False |\n",
        "| fries | 6 | True |\n",
        "| cake | 6 | True |\n",
        "| cookie| 3 | True |\n",
        "| water | 0 | True |\n",
        "| coffee| 2 | True |\n",
        "| soda | 3 | True |\n",
        "\n",
        "Create a dictionary called `menu` that has the item names as keys and a two-tuple with (price, vegetarian) as the value.\n",
        "\n",
        "Demonstrate by retrieving the price and vegetarian status of \"burger\".\n",
        "\n",
        "\n",
        "\n",
        "### Q1.d\n",
        "\n",
        "Write a function that takes a lunch order (a set of menu items) and returns the total price.\n",
        "\n",
        "Write a function that takes a lunch order a returns true if the entire order is vegetarian.\n",
        "\n",
        "Use list comprehensions to compute the price of each order and whether each order is vegtarian."
      ]
    },
    {
      "cell_type": "code",
      "execution_count": 65,
      "metadata": {},
      "outputs": [
        {
          "name": "stdout",
          "output_type": "stream",
          "text": [
            "Testing total_price\n",
            "Testing veg_status\n",
            "[14, 18, 20, 22, 9] [True, False, True, True, False]\n"
          ]
        }
      ],
      "source": [
        "#Create a dictionary 'menu'\n",
        "menu = {\"salad\":(8, True), \"soup\":(5, False), \"pasta\":(12, True), \"sandwich\":(9, False), \"burger\": (13, False), \"fries\":(6, True), \"cake\":(6, True), \"cookie\":(3, True), \"water\":(0, True), \"coffee\":(2, True), \"soda\":(3, True)}\n",
        "\n",
        "#Retrive price and vegetarian information for \"burger\"\n",
        "menu[\"burger\"]\n",
        "\n",
        "#Creating a function that returns the total price of an order\n",
        "def total_price(order, menu):\n",
        "    total = 0\n",
        "    for item in order:\n",
        "        total += menu[item][0]\n",
        "    return total\n",
        "\n",
        "#Testing Function total_price\n",
        "print(\"Testing total_price\")\n",
        "#Test the function with the order \"lunch_unique\"\n",
        "assert(total_price(lunch_unique, menu) == 40)\n",
        "\n",
        "#Test the function with single order \"pasta\"\n",
        "order1 = {\"pasta\"}\n",
        "assert(total_price(order1, menu) == 12)\n",
        "\n",
        "#Creating a function that returns the vegetarian status of an order\n",
        "def veg_status(order, menu):\n",
        "    veg = True\n",
        "    for item in order:\n",
        "        if menu[item][1] == False:\n",
        "            veg = False\n",
        "            break\n",
        "    return veg\n",
        "\n",
        "#Testing Function veg_status\n",
        "print(\"Testing veg_status\")\n",
        "\n",
        "#Test the function with the order \"lunch_unique\"\n",
        "assert(veg_status(lunch_unique, menu) == False)\n",
        "\n",
        "#Test the function with single order \"cookie\"\n",
        "order2 = {\"cookie\"}\n",
        "assert(veg_status(order2, menu) == True)\n",
        "\n",
        "#Iterating through the lunch orders, determine total price and veg status\n",
        "order_prices = [total_price(order, menu) for order in lunch_orders]\n",
        "order_veg_status = [veg_status(order, menu) for order in lunch_orders]\n",
        "print(order_prices, order_veg_status)"
      ]
    },
    {
      "cell_type": "code",
      "execution_count": 4,
      "metadata": {},
      "outputs": [],
      "source": [
        "# Hints: try running the following code\n",
        "# (\"this\", \"is\", \"a tuple\")[1]\n",
        "# [s.upper() for s in {\"hello\", \"world\"}]"
      ]
    },
    {
      "cell_type": "markdown",
      "metadata": {},
      "source": [
        "### Q1.e\n",
        "\n",
        "When you have completed your menu in the part (c) you can remove the `#` charcters make this code run:"
      ]
    },
    {
      "cell_type": "code",
      "execution_count": 69,
      "metadata": {},
      "outputs": [
        {
          "data": {
            "text/plain": [
              "{'name': ['salad',\n",
              "  'soup',\n",
              "  'pasta',\n",
              "  'sandwich',\n",
              "  'burger',\n",
              "  'fries',\n",
              "  'cake',\n",
              "  'cookie',\n",
              "  'water',\n",
              "  'coffee',\n",
              "  'soda'],\n",
              " 'price': [8, 5, 12, 9, 13, 6, 6, 3, 0, 2, 3],\n",
              " 'vegetarian': [True,\n",
              "  False,\n",
              "  True,\n",
              "  False,\n",
              "  False,\n",
              "  True,\n",
              "  True,\n",
              "  True,\n",
              "  True,\n",
              "  True,\n",
              "  True]}"
            ]
          },
          "execution_count": 69,
          "metadata": {},
          "output_type": "execute_result"
        }
      ],
      "source": [
        "menu_dict = {\n",
        "  \"name\": list(menu.keys()),\n",
        "  \"price\": [i[0] for i in menu.values()],\n",
        "  \"vegetarian\": [i[1] for i in menu.values()]\n",
        " }\n",
        "\n",
        "menu_dict"
      ]
    },
    {
      "cell_type": "code",
      "execution_count": 79,
      "metadata": {},
      "outputs": [
        {
          "data": {
            "text/plain": [
              "8"
            ]
          },
          "execution_count": 79,
          "metadata": {},
          "output_type": "execute_result"
        }
      ],
      "source": [
        "#The price of the most expensive item in the list\n",
        "max(menu_dict[\"price\"])\n",
        "\n",
        "#The name of the most expensive item in the list\n",
        "menu_dict[\"name\"][np.argmax(menu_dict[\"price\"])]\n",
        "\n",
        "#Number of vegetarian items on the menu\n",
        "sum(menu_dict[\"vegetarian\"])"
      ]
    },
    {
      "cell_type": "markdown",
      "metadata": {},
      "source": [
        "Use this table to compute the following:\n",
        "\n",
        "* What is the price of the most expensive item in the list?\n",
        "* What is the name of the most expensive item? (You can use the `np.argmax()` function to help you.)\n",
        "* How many vegetarian items are there?\n",
        "\n",
        "\n",
        "\n",
        "### Question 2"
      ]
    },
    {
      "cell_type": "code",
      "execution_count": 2,
      "metadata": {},
      "outputs": [],
      "source": [
        "# run this to do question 2\n",
        "import pandas as pd"
      ]
    },
    {
      "cell_type": "markdown",
      "metadata": {},
      "source": [
        "### Q2.a\n",
        "\n",
        "Here's a Pandas `DataFrame` version of our menu table."
      ]
    },
    {
      "cell_type": "code",
      "execution_count": 3,
      "metadata": {},
      "outputs": [
        {
          "data": {
            "text/html": [
              "<div>\n",
              "<style scoped>\n",
              "    .dataframe tbody tr th:only-of-type {\n",
              "        vertical-align: middle;\n",
              "    }\n",
              "\n",
              "    .dataframe tbody tr th {\n",
              "        vertical-align: top;\n",
              "    }\n",
              "\n",
              "    .dataframe thead th {\n",
              "        text-align: right;\n",
              "    }\n",
              "</style>\n",
              "<table border=\"1\" class=\"dataframe\">\n",
              "  <thead>\n",
              "    <tr style=\"text-align: right;\">\n",
              "      <th></th>\n",
              "      <th>name</th>\n",
              "      <th>price</th>\n",
              "      <th>vegetarian</th>\n",
              "    </tr>\n",
              "  </thead>\n",
              "  <tbody>\n",
              "    <tr>\n",
              "      <th>0</th>\n",
              "      <td>salad</td>\n",
              "      <td>8</td>\n",
              "      <td>True</td>\n",
              "    </tr>\n",
              "    <tr>\n",
              "      <th>1</th>\n",
              "      <td>soup</td>\n",
              "      <td>5</td>\n",
              "      <td>False</td>\n",
              "    </tr>\n",
              "    <tr>\n",
              "      <th>2</th>\n",
              "      <td>pasta</td>\n",
              "      <td>12</td>\n",
              "      <td>True</td>\n",
              "    </tr>\n",
              "    <tr>\n",
              "      <th>3</th>\n",
              "      <td>sandwich</td>\n",
              "      <td>9</td>\n",
              "      <td>False</td>\n",
              "    </tr>\n",
              "    <tr>\n",
              "      <th>4</th>\n",
              "      <td>burger</td>\n",
              "      <td>13</td>\n",
              "      <td>False</td>\n",
              "    </tr>\n",
              "    <tr>\n",
              "      <th>5</th>\n",
              "      <td>fries</td>\n",
              "      <td>6</td>\n",
              "      <td>True</td>\n",
              "    </tr>\n",
              "    <tr>\n",
              "      <th>6</th>\n",
              "      <td>cake</td>\n",
              "      <td>6</td>\n",
              "      <td>True</td>\n",
              "    </tr>\n",
              "    <tr>\n",
              "      <th>7</th>\n",
              "      <td>cookie</td>\n",
              "      <td>3</td>\n",
              "      <td>True</td>\n",
              "    </tr>\n",
              "    <tr>\n",
              "      <th>8</th>\n",
              "      <td>water</td>\n",
              "      <td>0</td>\n",
              "      <td>True</td>\n",
              "    </tr>\n",
              "    <tr>\n",
              "      <th>9</th>\n",
              "      <td>coffee</td>\n",
              "      <td>2</td>\n",
              "      <td>True</td>\n",
              "    </tr>\n",
              "    <tr>\n",
              "      <th>10</th>\n",
              "      <td>soda</td>\n",
              "      <td>3</td>\n",
              "      <td>True</td>\n",
              "    </tr>\n",
              "  </tbody>\n",
              "</table>\n",
              "</div>"
            ],
            "text/plain": [
              "        name  price  vegetarian\n",
              "0      salad      8        True\n",
              "1       soup      5       False\n",
              "2      pasta     12        True\n",
              "3   sandwich      9       False\n",
              "4     burger     13       False\n",
              "5      fries      6        True\n",
              "6       cake      6        True\n",
              "7     cookie      3        True\n",
              "8      water      0        True\n",
              "9     coffee      2        True\n",
              "10      soda      3        True"
            ]
          },
          "execution_count": 3,
          "metadata": {},
          "output_type": "execute_result"
        }
      ],
      "source": [
        "menu_df = pd.DataFrame({'name': ['salad',\n",
        "  'soup',\n",
        "  'pasta',\n",
        "  'sandwich',\n",
        "  'burger',\n",
        "  'fries',\n",
        "  'cake',\n",
        "  'cookie',\n",
        "  'water',\n",
        "  'coffee',\n",
        "  'soda'],\n",
        " 'price': [8, 5, 12, 9, 13, 6, 6, 3, 0, 2, 3],\n",
        " 'vegetarian': [True,\n",
        "  False,\n",
        "  True,\n",
        "  False,\n",
        "  False,\n",
        "  True,\n",
        "  True,\n",
        "  True,\n",
        "  True,\n",
        "  True,\n",
        "  True]})\n",
        "\n",
        "menu_df"
      ]
    },
    {
      "cell_type": "markdown",
      "metadata": {},
      "source": [
        "Using **methods** for Series objects (i.e., methods called on the columns of the table. Compute the following:\n",
        "\n",
        "* The name of the least expensive item on the list.\n",
        "* The number of items that cost between 5 and 10 dollars (inclusive).\n",
        "* The names all of vegetarian items that cost more than 10 dollars."
      ]
    },
    {
      "cell_type": "code",
      "execution_count": 29,
      "metadata": {},
      "outputs": [
        {
          "name": "stdout",
          "output_type": "stream",
          "text": [
            "water\n",
            "5\n",
            "2    pasta\n",
            "Name: name, dtype: object\n"
          ]
        }
      ],
      "source": [
        "#Retrieving the name of the least expensive item on the list\n",
        "print(menu_df.loc[menu_df[\"price\"].idxmin(), \"name\"])\n",
        "\n",
        "\n",
        "#Retrieving the number of items that cost between 5 and 10 dollars (inclusive)\n",
        "print((menu_df[\"price\"].between(5, 10)).sum())\n",
        "\n",
        "#Retrieving the names of all vegetatian items that cost more than 10 dollars.\n",
        "vegetarian_ten = menu_df[(menu_df[\"price\"] > 10) & (menu_df[\"vegetarian\"] == True)]\n",
        "print(vegetarian_ten[\"name\"])"
      ]
    },
    {
      "cell_type": "markdown",
      "metadata": {},
      "source": [
        "### Q2.b\n",
        "\n",
        "Create a table that is only composed of items that cost less than or equal to $5 (call the `value_items`).\n"
      ]
    },
    {
      "cell_type": "code",
      "execution_count": 34,
      "metadata": {},
      "outputs": [
        {
          "name": "stdout",
          "output_type": "stream",
          "text": [
            "      name  price  vegetarian\n",
            "1     soup      5       False\n",
            "7   cookie      3        True\n",
            "8    water      0        True\n",
            "9   coffee      2        True\n",
            "10    soda      3        True\n"
          ]
        }
      ],
      "source": [
        "# Creating a new dataframe that contains only items that are less than or equal to 5 dollars\n",
        "menu_lt5 = menu_df[menu_df[\"price\"] <= 5]\n",
        "print(menu_lt5)"
      ]
    },
    {
      "cell_type": "markdown",
      "metadata": {},
      "source": [
        "How many vegetarian items are in this menu?"
      ]
    },
    {
      "cell_type": "code",
      "execution_count": 35,
      "metadata": {},
      "outputs": [
        {
          "name": "stdout",
          "output_type": "stream",
          "text": [
            "8\n"
          ]
        }
      ],
      "source": [
        "# Counting the number of vegetarian items\n",
        "print((menu_df[\"vegetarian\"] == True).sum())"
      ]
    },
    {
      "cell_type": "markdown",
      "metadata": {},
      "source": [
        "## Q2.c\n",
        "\n",
        "Let's use these techniques on some real data!"
      ]
    },
    {
      "cell_type": "code",
      "execution_count": 38,
      "metadata": {},
      "outputs": [
        {
          "data": {
            "text/plain": [
              "Index(['duration_ms', 'track.explicit', 'key', 'danceability', 'energy',\n",
              "       'loudness', 'acousticness', 'instrumentalness', 'liveness', 'tempo',\n",
              "       'time_signature', 'track.popularity', 'track.album.release_date',\n",
              "       'track.name', 'artist.name'],\n",
              "      dtype='object')"
            ]
          },
          "execution_count": 38,
          "metadata": {},
          "output_type": "execute_result"
        }
      ],
      "source": [
        "spotify = pd.read_csv(\"./spotify.csv\")\n",
        "spotify.columns"
      ]
    },
    {
      "cell_type": "markdown",
      "metadata": {},
      "source": [
        "Using Python and Pandas, answer the following questions:\n",
        "\n",
        "* How many songs have a popularity greater than 80?\n",
        "* For songs with a popularity greater than 80, what is the shortest song (in miliseconds)?\n",
        "* What is the name of the song with popularity greater than 80 that has the slowest tempo?"
      ]
    },
    {
      "cell_type": "code",
      "execution_count": 60,
      "metadata": {},
      "outputs": [
        {
          "name": "stdout",
          "output_type": "stream",
          "text": [
            "84\n",
            "Uno\n",
            "Lover\n"
          ]
        }
      ],
      "source": [
        "# Creating a new data frame that only contains tracks with popularity greater than 80\n",
        "spotify_pop_80 = spotify[spotify[\"track.popularity\"] > 80]\n",
        "\n",
        "# Retrieving the number of columns of the new data frame\n",
        "print(spotify_pop_80.shape[0])\n",
        "\n",
        "# Shortest song in the new data frame\n",
        "print(spotify_pop_80.loc[spotify_pop_80[\"duration_ms\"].idxmin(), \"track.name\"])\n",
        "\n",
        "# Song that has popularity greater than 90 and has the slowest tempo\n",
        "print(spotify_pop_80.loc[spotify_pop_80[\"tempo\"].idxmin(), \"track.name\"])\n",
        "\n",
        "\n",
        "\n"
      ]
    },
    {
      "cell_type": "markdown",
      "metadata": {},
      "source": [
        "### Q2.d\n",
        "\n",
        "Here is a little code that will create a new column with four (approximately) evenly sized groups based on popularly (low, medium, medium high, and high). The code after creating the columns shows how many rows are in each group. There are a few songs with the same popularity value, which makes it difficult to get exactly evenly sized groups, but this is pretty close. The `(a, b]` output on the left shows the popularity range of that group."
      ]
    },
    {
      "cell_type": "code",
      "execution_count": 63,
      "metadata": {},
      "outputs": [
        {
          "data": {
            "text/plain": [
              "popgrp\n",
              "(-0.001, 41.0]    250\n",
              "(53.0, 67.0]      242\n",
              "(67.0, 100.0]     238\n",
              "(41.0, 53.0]      237\n",
              "Name: count, dtype: int64"
            ]
          },
          "execution_count": 63,
          "metadata": {},
          "output_type": "execute_result"
        }
      ],
      "source": [
        "spotify[\"popgrp\"] = pd.qcut(spotify[\"track.popularity\"], 4)\n",
        "spotify[\"popgrp\"].value_counts()"
      ]
    },
    {
      "cell_type": "markdown",
      "metadata": {},
      "source": [
        "For each group, find the number of explicit songs using the `\"track.explicit\"` column. Which group has the most explicit songs?"
      ]
    },
    {
      "cell_type": "code",
      "execution_count": 73,
      "metadata": {},
      "outputs": [
        {
          "name": "stderr",
          "output_type": "stream",
          "text": [
            "/tmp/ipykernel_1703/3816821154.py:3: FutureWarning: The default of observed=False is deprecated and will be changed to True in a future version of pandas. Pass observed=False to retain current behavior or observed=True to adopt the future default and silence this warning.\n",
            "  spotify.groupby(\"popgrp\")[\"track.explicit\"].sum()\n"
          ]
        },
        {
          "data": {
            "text/plain": [
              "popgrp\n",
              "(-0.001, 41.0]    29\n",
              "(41.0, 53.0]      24\n",
              "(53.0, 67.0]      32\n",
              "(67.0, 100.0]     73\n",
              "Name: track.explicit, dtype: int64"
            ]
          },
          "execution_count": 73,
          "metadata": {},
          "output_type": "execute_result"
        }
      ],
      "source": [
        "# Finding the number of explicit songs in each popularity group\n",
        "spotify.groupby(\"popgrp\")[\"track.explicit\"].sum()"
      ]
    },
    {
      "cell_type": "markdown",
      "metadata": {},
      "source": [
        "### Q2.e\n",
        "\n",
        "Create a new column that is the product of `danceability` and `energy`. Find the song with the highest product of danceability and energy. Find the tempo of this song. Is it a particularly fast song in terms of tempo? How many songs are faster than this song? How many are slower?"
      ]
    },
    {
      "cell_type": "code",
      "execution_count": 90,
      "metadata": {},
      "outputs": [
        {
          "name": "stdout",
          "output_type": "stream",
          "text": [
            "Miracle - Radio Edit 121.98\n",
            "394\n",
            "571\n"
          ]
        }
      ],
      "source": [
        "# Creating a new column that contains the product of danceability and energy\n",
        "spotify[\"dance_energy\"] = spotify[\"danceability\"] * spotify[\"energy\"]\n",
        "\n",
        "# Finding the song with the highest product of danceability and energy; Finding the tempo of that song\n",
        "song_name = spotify.loc[spotify[\"dance_energy\"].idxmax(), \"track.name\"]\n",
        "song_tempo = spotify.loc[spotify[\"dance_energy\"].idxmax(), \"tempo\"]\n",
        "print(song_name, song_tempo)\n",
        "\n",
        "# Number of songs that are faster than the song\n",
        "print((spotify[\"tempo\"] > song_tempo).sum())\n",
        "\n",
        "# Number of songs that are slower than the song\n",
        "print((spotify[\"tempo\"] < song_tempo).sum())\n",
        "\n"
      ]
    }
  ],
  "metadata": {
    "kernelspec": {
      "display_name": "Python 3 (ipykernel)",
      "language": "python",
      "name": "python3",
      "path": "/Users/mark/Documents/Professional/Teaching/umich/data-science-101-materials/env/share/jupyter/kernels/python3"
    },
    "language_info": {
      "codemirror_mode": {
        "name": "ipython",
        "version": 3
      },
      "file_extension": ".py",
      "mimetype": "text/x-python",
      "name": "python",
      "nbconvert_exporter": "python",
      "pygments_lexer": "ipython3",
      "version": "3.12.1"
    }
  },
  "nbformat": 4,
  "nbformat_minor": 4
}
